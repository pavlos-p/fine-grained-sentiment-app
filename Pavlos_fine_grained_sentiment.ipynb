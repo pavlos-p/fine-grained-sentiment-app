{
  "nbformat": 4,
  "nbformat_minor": 0,
  "metadata": {
    "colab": {
      "name": "Pavlos fine-grained-sentiment.ipynb",
      "provenance": [],
      "collapsed_sections": [],
      "toc_visible": true,
      "authorship_tag": "ABX9TyP92ae5Hlfs37Gv1eEDLSmX",
      "include_colab_link": true
    },
    "kernelspec": {
      "name": "python3",
      "display_name": "Python 3"
    },
    "accelerator": "GPU"
  },
  "cells": [
    {
      "cell_type": "markdown",
      "metadata": {
        "id": "view-in-github",
        "colab_type": "text"
      },
      "source": [
        "<a href=\"https://colab.research.google.com/github/pavlos-p/fine-grained-sentiment-app/blob/master/Pavlos_fine_grained_sentiment.ipynb\" target=\"_parent\"><img src=\"https://colab.research.google.com/assets/colab-badge.svg\" alt=\"Open In Colab\"/></a>"
      ]
    },
    {
      "cell_type": "code",
      "metadata": {
        "id": "50NtOK8qPa-d",
        "colab_type": "code",
        "colab": {
          "base_uri": "https://localhost:8080/",
          "height": 34
        },
        "outputId": "65061467-7467-46ad-c509-364dcf3b7672"
      },
      "source": [
        "!pwd"
      ],
      "execution_count": 1,
      "outputs": [
        {
          "output_type": "stream",
          "text": [
            "/content\n"
          ],
          "name": "stdout"
        }
      ]
    },
    {
      "cell_type": "code",
      "metadata": {
        "id": "la_1OfxAPf5H",
        "colab_type": "code",
        "colab": {
          "base_uri": "https://localhost:8080/",
          "height": 34
        },
        "outputId": "83f17be8-cf8d-4568-a042-552bd5a60277"
      },
      "source": [
        "!ls"
      ],
      "execution_count": 2,
      "outputs": [
        {
          "output_type": "stream",
          "text": [
            "fastText  fine-grained-sentiment  sample_data\n"
          ],
          "name": "stdout"
        }
      ]
    },
    {
      "cell_type": "code",
      "metadata": {
        "id": "LYABOA_rPltK",
        "colab_type": "code",
        "colab": {
          "base_uri": "https://localhost:8080/",
          "height": 34
        },
        "outputId": "1d5dc2f1-eee2-4d46-a9dc-ef9794eb298a"
      },
      "source": [
        "!git clone https://github.com/prrao87/fine-grained-sentiment"
      ],
      "execution_count": 3,
      "outputs": [
        {
          "output_type": "stream",
          "text": [
            "fatal: destination path 'fine-grained-sentiment' already exists and is not an empty directory.\n"
          ],
          "name": "stdout"
        }
      ]
    },
    {
      "cell_type": "code",
      "metadata": {
        "id": "lnwlPyDVPnz6",
        "colab_type": "code",
        "colab": {}
      },
      "source": [
        "%cd fine-grained-sentiment"
      ],
      "execution_count": 4,
      "outputs": []
    },
    {
      "cell_type": "code",
      "metadata": {
        "id": "eMz54lTjPx4-",
        "colab_type": "code",
        "colab": {
          "base_uri": "https://localhost:8080/",
          "height": 904
        },
        "outputId": "ce478730-b8dd-4680-ed60-adbac8a0b7c2"
      },
      "source": [
        "!pip install -r requirements.txt"
      ],
      "execution_count": 5,
      "outputs": [
        {
          "output_type": "stream",
          "text": [
            "Requirement already satisfied: pytreebank==0.2.6 in /usr/local/lib/python3.6/dist-packages (from -r fine-grained-sentiment/requirements.txt (line 1)) (0.2.6)\n",
            "Requirement already satisfied: tqdm==4.33.0 in /usr/local/lib/python3.6/dist-packages (from -r fine-grained-sentiment/requirements.txt (line 2)) (4.33.0)\n",
            "Requirement already satisfied: cython==0.29.3 in /usr/local/lib/python3.6/dist-packages (from -r fine-grained-sentiment/requirements.txt (line 3)) (0.29.3)\n",
            "Requirement already satisfied: pandas==0.25.0 in /usr/local/lib/python3.6/dist-packages (from -r fine-grained-sentiment/requirements.txt (line 4)) (0.25.0)\n",
            "Requirement already satisfied: nltk==3.4.5 in /usr/local/lib/python3.6/dist-packages (from -r fine-grained-sentiment/requirements.txt (line 5)) (3.4.5)\n",
            "Requirement already satisfied: textblob==0.15.3 in /usr/local/lib/python3.6/dist-packages (from -r fine-grained-sentiment/requirements.txt (line 6)) (0.15.3)\n",
            "Requirement already satisfied: torch==1.1.0 in /usr/local/lib/python3.6/dist-packages (from -r fine-grained-sentiment/requirements.txt (line 7)) (1.1.0)\n",
            "Requirement already satisfied: pytorch-ignite==0.2.0 in /usr/local/lib/python3.6/dist-packages (from -r fine-grained-sentiment/requirements.txt (line 8)) (0.2.0)\n",
            "Requirement already satisfied: pytorch-transformers==1.0.0 in /usr/local/lib/python3.6/dist-packages (from -r fine-grained-sentiment/requirements.txt (line 9)) (1.0.0)\n",
            "Requirement already satisfied: fasttext==0.9.1 in /usr/local/lib/python3.6/dist-packages (from -r fine-grained-sentiment/requirements.txt (line 10)) (0.9.1)\n",
            "Requirement already satisfied: lime==0.1.1.36 in /usr/local/lib/python3.6/dist-packages (from -r fine-grained-sentiment/requirements.txt (line 11)) (0.1.1.36)\n",
            "Requirement already satisfied: spacy==2.1.8 in /usr/local/lib/python3.6/dist-packages (from -r fine-grained-sentiment/requirements.txt (line 12)) (2.1.8)\n",
            "Requirement already satisfied: numpy>=1.13.3 in /usr/local/lib/python3.6/dist-packages (from pandas==0.25.0->-r fine-grained-sentiment/requirements.txt (line 4)) (1.18.5)\n",
            "Requirement already satisfied: python-dateutil>=2.6.1 in /usr/local/lib/python3.6/dist-packages (from pandas==0.25.0->-r fine-grained-sentiment/requirements.txt (line 4)) (2.8.1)\n",
            "Requirement already satisfied: pytz>=2017.2 in /usr/local/lib/python3.6/dist-packages (from pandas==0.25.0->-r fine-grained-sentiment/requirements.txt (line 4)) (2018.9)\n",
            "Requirement already satisfied: six in /usr/local/lib/python3.6/dist-packages (from nltk==3.4.5->-r fine-grained-sentiment/requirements.txt (line 5)) (1.15.0)\n",
            "Requirement already satisfied: sentencepiece in /usr/local/lib/python3.6/dist-packages (from pytorch-transformers==1.0.0->-r fine-grained-sentiment/requirements.txt (line 9)) (0.1.91)\n",
            "Requirement already satisfied: regex in /usr/local/lib/python3.6/dist-packages (from pytorch-transformers==1.0.0->-r fine-grained-sentiment/requirements.txt (line 9)) (2019.12.20)\n",
            "Requirement already satisfied: boto3 in /usr/local/lib/python3.6/dist-packages (from pytorch-transformers==1.0.0->-r fine-grained-sentiment/requirements.txt (line 9)) (1.14.59)\n",
            "Requirement already satisfied: requests in /usr/local/lib/python3.6/dist-packages (from pytorch-transformers==1.0.0->-r fine-grained-sentiment/requirements.txt (line 9)) (2.23.0)\n",
            "Requirement already satisfied: setuptools>=0.7.0 in /usr/local/lib/python3.6/dist-packages (from fasttext==0.9.1->-r fine-grained-sentiment/requirements.txt (line 10)) (50.3.0)\n",
            "Requirement already satisfied: pybind11>=2.2 in /usr/local/lib/python3.6/dist-packages (from fasttext==0.9.1->-r fine-grained-sentiment/requirements.txt (line 10)) (2.5.0)\n",
            "Requirement already satisfied: matplotlib; python_version >= \"3.0\" in /usr/local/lib/python3.6/dist-packages (from lime==0.1.1.36->-r fine-grained-sentiment/requirements.txt (line 11)) (3.2.2)\n",
            "Requirement already satisfied: scikit-image>=0.12; python_version >= \"3.0\" in /usr/local/lib/python3.6/dist-packages (from lime==0.1.1.36->-r fine-grained-sentiment/requirements.txt (line 11)) (0.16.2)\n",
            "Requirement already satisfied: scipy in /usr/local/lib/python3.6/dist-packages (from lime==0.1.1.36->-r fine-grained-sentiment/requirements.txt (line 11)) (1.4.1)\n",
            "Requirement already satisfied: scikit-learn>=0.18 in /usr/local/lib/python3.6/dist-packages (from lime==0.1.1.36->-r fine-grained-sentiment/requirements.txt (line 11)) (0.22.2.post1)\n",
            "Requirement already satisfied: cymem<2.1.0,>=2.0.2 in /usr/local/lib/python3.6/dist-packages (from spacy==2.1.8->-r fine-grained-sentiment/requirements.txt (line 12)) (2.0.3)\n",
            "Requirement already satisfied: srsly<1.1.0,>=0.0.6 in /usr/local/lib/python3.6/dist-packages (from spacy==2.1.8->-r fine-grained-sentiment/requirements.txt (line 12)) (1.0.2)\n",
            "Requirement already satisfied: plac<1.0.0,>=0.9.6 in /usr/local/lib/python3.6/dist-packages (from spacy==2.1.8->-r fine-grained-sentiment/requirements.txt (line 12)) (0.9.6)\n",
            "Requirement already satisfied: wasabi<1.1.0,>=0.2.0 in /usr/local/lib/python3.6/dist-packages (from spacy==2.1.8->-r fine-grained-sentiment/requirements.txt (line 12)) (0.8.0)\n",
            "Requirement already satisfied: murmurhash<1.1.0,>=0.28.0 in /usr/local/lib/python3.6/dist-packages (from spacy==2.1.8->-r fine-grained-sentiment/requirements.txt (line 12)) (1.0.2)\n",
            "Requirement already satisfied: preshed<2.1.0,>=2.0.1 in /usr/local/lib/python3.6/dist-packages (from spacy==2.1.8->-r fine-grained-sentiment/requirements.txt (line 12)) (2.0.1)\n",
            "Requirement already satisfied: blis<0.3.0,>=0.2.2 in /usr/local/lib/python3.6/dist-packages (from spacy==2.1.8->-r fine-grained-sentiment/requirements.txt (line 12)) (0.2.4)\n",
            "Requirement already satisfied: thinc<7.1.0,>=7.0.8 in /usr/local/lib/python3.6/dist-packages (from spacy==2.1.8->-r fine-grained-sentiment/requirements.txt (line 12)) (7.0.8)\n",
            "Requirement already satisfied: botocore<1.18.0,>=1.17.59 in /usr/local/lib/python3.6/dist-packages (from boto3->pytorch-transformers==1.0.0->-r fine-grained-sentiment/requirements.txt (line 9)) (1.17.59)\n",
            "Requirement already satisfied: s3transfer<0.4.0,>=0.3.0 in /usr/local/lib/python3.6/dist-packages (from boto3->pytorch-transformers==1.0.0->-r fine-grained-sentiment/requirements.txt (line 9)) (0.3.3)\n",
            "Requirement already satisfied: jmespath<1.0.0,>=0.7.1 in /usr/local/lib/python3.6/dist-packages (from boto3->pytorch-transformers==1.0.0->-r fine-grained-sentiment/requirements.txt (line 9)) (0.10.0)\n",
            "Requirement already satisfied: certifi>=2017.4.17 in /usr/local/lib/python3.6/dist-packages (from requests->pytorch-transformers==1.0.0->-r fine-grained-sentiment/requirements.txt (line 9)) (2020.6.20)\n",
            "Requirement already satisfied: idna<3,>=2.5 in /usr/local/lib/python3.6/dist-packages (from requests->pytorch-transformers==1.0.0->-r fine-grained-sentiment/requirements.txt (line 9)) (2.10)\n",
            "Requirement already satisfied: urllib3!=1.25.0,!=1.25.1,<1.26,>=1.21.1 in /usr/local/lib/python3.6/dist-packages (from requests->pytorch-transformers==1.0.0->-r fine-grained-sentiment/requirements.txt (line 9)) (1.24.3)\n",
            "Requirement already satisfied: chardet<4,>=3.0.2 in /usr/local/lib/python3.6/dist-packages (from requests->pytorch-transformers==1.0.0->-r fine-grained-sentiment/requirements.txt (line 9)) (3.0.4)\n",
            "Requirement already satisfied: cycler>=0.10 in /usr/local/lib/python3.6/dist-packages (from matplotlib; python_version >= \"3.0\"->lime==0.1.1.36->-r fine-grained-sentiment/requirements.txt (line 11)) (0.10.0)\n",
            "Requirement already satisfied: kiwisolver>=1.0.1 in /usr/local/lib/python3.6/dist-packages (from matplotlib; python_version >= \"3.0\"->lime==0.1.1.36->-r fine-grained-sentiment/requirements.txt (line 11)) (1.2.0)\n",
            "Requirement already satisfied: pyparsing!=2.0.4,!=2.1.2,!=2.1.6,>=2.0.1 in /usr/local/lib/python3.6/dist-packages (from matplotlib; python_version >= \"3.0\"->lime==0.1.1.36->-r fine-grained-sentiment/requirements.txt (line 11)) (2.4.7)\n",
            "Requirement already satisfied: imageio>=2.3.0 in /usr/local/lib/python3.6/dist-packages (from scikit-image>=0.12; python_version >= \"3.0\"->lime==0.1.1.36->-r fine-grained-sentiment/requirements.txt (line 11)) (2.4.1)\n",
            "Requirement already satisfied: networkx>=2.0 in /usr/local/lib/python3.6/dist-packages (from scikit-image>=0.12; python_version >= \"3.0\"->lime==0.1.1.36->-r fine-grained-sentiment/requirements.txt (line 11)) (2.5)\n",
            "Requirement already satisfied: PyWavelets>=0.4.0 in /usr/local/lib/python3.6/dist-packages (from scikit-image>=0.12; python_version >= \"3.0\"->lime==0.1.1.36->-r fine-grained-sentiment/requirements.txt (line 11)) (1.1.1)\n",
            "Requirement already satisfied: pillow>=4.3.0 in /usr/local/lib/python3.6/dist-packages (from scikit-image>=0.12; python_version >= \"3.0\"->lime==0.1.1.36->-r fine-grained-sentiment/requirements.txt (line 11)) (7.0.0)\n",
            "Requirement already satisfied: joblib>=0.11 in /usr/local/lib/python3.6/dist-packages (from scikit-learn>=0.18->lime==0.1.1.36->-r fine-grained-sentiment/requirements.txt (line 11)) (0.16.0)\n",
            "Requirement already satisfied: docutils<0.16,>=0.10 in /usr/local/lib/python3.6/dist-packages (from botocore<1.18.0,>=1.17.59->boto3->pytorch-transformers==1.0.0->-r fine-grained-sentiment/requirements.txt (line 9)) (0.15.2)\n",
            "Requirement already satisfied: decorator>=4.3.0 in /usr/local/lib/python3.6/dist-packages (from networkx>=2.0->scikit-image>=0.12; python_version >= \"3.0\"->lime==0.1.1.36->-r fine-grained-sentiment/requirements.txt (line 11)) (4.4.2)\n"
          ],
          "name": "stdout"
        }
      ]
    },
    {
      "cell_type": "code",
      "metadata": {
        "id": "LKe9tdhNiNWt",
        "colab_type": "code",
        "colab": {}
      },
      "source": [
        "%cd fine-grained-sentiment"
      ],
      "execution_count": null,
      "outputs": []
    },
    {
      "cell_type": "code",
      "metadata": {
        "id": "3shLC8qTP-Jc",
        "colab_type": "code",
        "colab": {
          "base_uri": "https://localhost:8080/",
          "height": 34
        },
        "outputId": "4a077007-1bd7-4677-e58f-1913a86ea187"
      },
      "source": [
        "!git clone https://github.com/facebookresearch/fastText.git"
      ],
      "execution_count": 6,
      "outputs": [
        {
          "output_type": "stream",
          "text": [
            "fatal: destination path 'fastText' already exists and is not an empty directory.\n"
          ],
          "name": "stdout"
        }
      ]
    },
    {
      "cell_type": "code",
      "metadata": {
        "id": "v6aeWfh8Qce6",
        "colab_type": "code",
        "colab": {
          "base_uri": "https://localhost:8080/",
          "height": 34
        },
        "outputId": "29ae2570-bf46-4e8f-9edc-60ac933b837e"
      },
      "source": [
        "%cd fastText"
      ],
      "execution_count": 7,
      "outputs": [
        {
          "output_type": "stream",
          "text": [
            "/content/fastText\n"
          ],
          "name": "stdout"
        }
      ]
    },
    {
      "cell_type": "code",
      "metadata": {
        "id": "rvm6BNuyQdmf",
        "colab_type": "code",
        "colab": {
          "base_uri": "https://localhost:8080/",
          "height": 34
        },
        "outputId": "75fbaaa1-ca8e-4479-87cf-74235c30eef8"
      },
      "source": [
        "!make"
      ],
      "execution_count": 8,
      "outputs": [
        {
          "output_type": "stream",
          "text": [
            "make: Nothing to be done for 'opt'.\n"
          ],
          "name": "stdout"
        }
      ]
    },
    {
      "cell_type": "code",
      "metadata": {
        "id": "fYHP24RXQdts",
        "colab_type": "code",
        "colab": {
          "base_uri": "https://localhost:8080/",
          "height": 1000
        },
        "outputId": "de88b9e9-80e0-4693-ba6b-d431bc33a98e"
      },
      "source": [
        "!./fasttext supervised -input ../data/sst/sst_train.txt -output ../model_hyperopt \\\n",
        "-autotune-validation ../data/sst/sst_dev.txt -autotune-modelsize 10M -verbose 3"
      ],
      "execution_count": 11,
      "outputs": [
        {
          "output_type": "stream",
          "text": [
            "Trial = 1\n",
            "epoch = 5\n",
            "lr = 0.1\n",
            "dim = 100\n",
            "minCount = 1\n",
            "wordNgrams = 1\n",
            "minn = 0\n",
            "maxn = 0\n",
            "bucket = 2000000\n",
            "dsub = 2\n",
            "loss = softmax\n",
            "Progress:   0.7% Trials:    1 Best score:   unknown ETA:   0h 4m57scutoff = 162220\n",
            "Progress:  25.0% Trials:    1 Best score:   unknown ETA:   0h 3m44scurrentScore = 0.390554\n",
            "train took = 75.4889\n",
            "Trial = 2\n",
            "epoch = 2\n",
            "lr = 0.169285\n",
            "dim = 105\n",
            "minCount = 1\n",
            "wordNgrams = 5\n",
            "minn = 3\n",
            "maxn = 6\n",
            "bucket = 580510\n",
            "dsub = 2\n",
            "loss = softmax\n",
            "Progress:  25.5% Trials:    2 Best score:  0.390554 ETA:   0h 3m43scutoff = 154535\n",
            "Progress:  51.4% Trials:    2 Best score:  0.390554 ETA:   0h 2m25scurrentScore = 0.253406\n",
            "train took = 78.9966\n",
            "Trial = 3\n",
            "epoch = 42\n",
            "lr = 0.0520659\n",
            "dim = 70\n",
            "minCount = 1\n",
            "wordNgrams = 1\n",
            "minn = 0\n",
            "maxn = 0\n",
            "bucket = 0\n",
            "dsub = 2\n",
            "loss = softmax\n",
            "Progress:  51.9% Trials:    3 Best score:  0.390554 ETA:   0h 2m24scutoff = 215799\n",
            "Progress:  56.4% Trials:    3 Best score:  0.390554 ETA:   0h 2m10scurrentScore = 0.354223\n",
            "train took = 14.8977\n",
            "Trial = 4\n",
            "epoch = 1\n",
            "lr = 0.226275\n",
            "dim = 132\n",
            "minCount = 1\n",
            "wordNgrams = 1\n",
            "minn = 0\n",
            "maxn = 0\n",
            "bucket = 0\n",
            "dsub = 2\n",
            "loss = softmax\n",
            "cutoff = 128078\n",
            "Progress:  64.9% Trials:    4 Best score:  0.390554 ETA:   0h 1m45scurrentScore = 0.253406\n",
            "train took = 25.5347\n",
            "Trial = 5\n",
            "epoch = 31\n",
            "lr = 0.155297\n",
            "dim = 121\n",
            "minCount = 1\n",
            "wordNgrams = 1\n",
            "minn = 0\n",
            "maxn = 0\n",
            "bucket = 0\n",
            "dsub = 2\n",
            "loss = softmax\n",
            "Progress:  65.4% Trials:    5 Best score:  0.390554 ETA:   0h 1m43scutoff = 137132\n",
            "Progress:  73.0% Trials:    5 Best score:  0.390554 ETA:   0h 1m20scurrentScore = 0.354223\n",
            "train took = 24.3012\n",
            "Trial = 6\n",
            "epoch = 1\n",
            "lr = 0.0267725\n",
            "dim = 91\n",
            "minCount = 1\n",
            "wordNgrams = 5\n",
            "minn = 0\n",
            "maxn = 0\n",
            "bucket = 1209533\n",
            "dsub = 2\n",
            "loss = softmax\n",
            "Progress:  73.4% Trials:    6 Best score:  0.390554 ETA:   0h 1m19scutoff = 173769\n",
            "Progress:  95.9% Trials:    6 Best score:  0.390554 ETA:   0h 0m12scurrentScore = 0.253406\n",
            "train took = 68.6526\n",
            "Trial = 7\n",
            "epoch = 54\n",
            "lr = 0.119705\n",
            "dim = 81\n",
            "minCount = 1\n",
            "wordNgrams = 1\n",
            "minn = 0\n",
            "maxn = 0\n",
            "bucket = 0\n",
            "dsub = 2\n",
            "loss = softmax\n",
            "Progress:  96.6% Trials:    7 Best score:  0.390554 ETA:   0h 0m10scutoff = 190679\n",
            "Progress: 100.0% Trials:    7 Best score:  0.390554 ETA:   0h 0m 0scurrentScore = 0.352407\n",
            "train took = 17.4321\n",
            "\n",
            "Training again with best arguments\n",
            "Best selected args = 0\n",
            "epoch = 5\n",
            "lr = 0.1\n",
            "dim = 100\n",
            "minCount = 1\n",
            "wordNgrams = 1\n",
            "minn = 0\n",
            "maxn = 0\n",
            "bucket = 2000000\n",
            "dsub = 2\n",
            "loss = softmax\n",
            "Read 0M words\n",
            "Number of words:  18279\n",
            "Number of labels: 5\n",
            "Progress: 100.0% words/sec/thread:  374645 lr:  0.000000 avg.loss:  1.499082 ETA:   0h 0m 0s\n",
            "cutoff = 162220\n",
            "Progress: 100.0% words/sec/thread:  374786 lr:  0.000000 avg.loss:  1.099818 ETA:   0h 0m 0s\n"
          ],
          "name": "stdout"
        }
      ]
    },
    {
      "cell_type": "code",
      "metadata": {
        "id": "n0dFsOulRMC7",
        "colab_type": "code",
        "colab": {
          "base_uri": "https://localhost:8080/",
          "height": 34
        },
        "outputId": "cf520dc7-06e7-48f0-8f05-0847a92ee50b"
      },
      "source": [
        "%cd ../training"
      ],
      "execution_count": 18,
      "outputs": [
        {
          "output_type": "stream",
          "text": [
            "/content/fine-grained-sentiment/training\n"
          ],
          "name": "stdout"
        }
      ]
    },
    {
      "cell_type": "markdown",
      "metadata": {
        "id": "DFpVnP9SVJDy",
        "colab_type": "text"
      },
      "source": [
        "**Weird There is an error**"
      ]
    },
    {
      "cell_type": "code",
      "metadata": {
        "id": "5sQxiBr5RMd2",
        "colab_type": "code",
        "colab": {
          "base_uri": "https://localhost:8080/",
          "height": 119
        },
        "outputId": "b04c397a-e207-49fa-8f70-bade170a4074"
      },
      "source": [
        "!python3 train_flair.py --stack glove --epochs 25"
      ],
      "execution_count": 26,
      "outputs": [
        {
          "output_type": "stream",
          "text": [
            "Traceback (most recent call last):\n",
            "  File \"train_flair.py\", line 107, in <module>\n",
            "    trainer(filepath, filenames, args.checkpoint, stack=args.stack, n_epochs=args.epochs)\n",
            "  File \"train_flair.py\", line 18, in trainer\n",
            "    from flair.datasets import ClassificationCorpus\n",
            "ModuleNotFoundError: No module named 'flair'\n"
          ],
          "name": "stdout"
        }
      ]
    },
    {
      "cell_type": "markdown",
      "metadata": {
        "id": "kXOIEUWnU_eS",
        "colab_type": "text"
      },
      "source": [
        "**Weird There is an error**"
      ]
    },
    {
      "cell_type": "code",
      "metadata": {
        "id": "pNziELmCUGbD",
        "colab_type": "code",
        "colab": {
          "base_uri": "https://localhost:8080/",
          "height": 289
        },
        "outputId": "6485f4ff-4254-44b7-8d17-f3d13ce3bfea"
      },
      "source": [
        "!python3 train_transformer.py --n_epochs 3 --lr 6.5e-5 --gradient_acc_steps 2"
      ],
      "execution_count": 25,
      "outputs": [
        {
          "output_type": "stream",
          "text": [
            "100% 201626725/201626725 [00:18<00:00, 11174138.25B/s]\n",
            "100% 837/837 [00:00<00:00, 531511.35B/s]\n",
            "Parameters discarded from the pretrained model: ['lm_head.weight']\n",
            "Parameters added in the model: ['classification_head.weight', 'classification_head.bias']\n",
            "Model has 50,398,415 parameters\n",
            "100% 213450/213450 [00:00<00:00, 297273.88B/s]\n",
            "Processing 8544 examples on 2 cores: 100% 8544/8544 [00:05<00:00, 1466.30it/s]\n",
            "Processing 1101 examples on 2 cores: 100% 1101/1101 [00:00<00:00, 1260.55it/s]\n",
            "Processing 2210 examples on 2 cores: 100% 2210/2210 [00:01<00:00, 1389.81it/s]\n",
            "Epoch [1/3]: 100% 267/267 [07:34<00:00,  1.70s/it, loss=6.56e-01]validation epoch: 1 acc: 40.690%\n",
            "\n",
            "Epoch [2/3]: 100% 267/267 [07:33<00:00,  1.71s/it, loss=5.55e-01]validation epoch: 2 acc: 46.140%\n",
            "\n",
            "Epoch [3/3]: 100% 267/267 [07:33<00:00,  1.70s/it, loss=4.68e-01]validation epoch: 3 acc: 47.230%\n",
            "\n",
            "test results - acc: 49.276\n"
          ],
          "name": "stdout"
        }
      ]
    },
    {
      "cell_type": "code",
      "metadata": {
        "id": "3RCmicTIVRpz",
        "colab_type": "code",
        "colab": {
          "base_uri": "https://localhost:8080/",
          "height": 34
        },
        "outputId": "db095c3a-9745-4bfb-f811-463e2557f866"
      },
      "source": [
        "%cd .."
      ],
      "execution_count": 28,
      "outputs": [
        {
          "output_type": "stream",
          "text": [
            "/content/fine-grained-sentiment\n"
          ],
          "name": "stdout"
        }
      ]
    },
    {
      "cell_type": "code",
      "metadata": {
        "id": "pIm9zUXngjS2",
        "colab_type": "code",
        "colab": {
          "base_uri": "https://localhost:8080/",
          "height": 85
        },
        "outputId": "579b254f-5ec6-4ff7-beb8-8c68244b52f9"
      },
      "source": [
        "!python3 predictor.py --method textblob"
      ],
      "execution_count": 31,
      "outputs": [
        {
          "output_type": "stream",
          "text": [
            "--\n",
            "Running textblob classifier on test data.\n",
            "Accuracy: 28.371\n",
            "Macro F1-score: 24.681\n"
          ],
          "name": "stdout"
        }
      ]
    },
    {
      "cell_type": "code",
      "metadata": {
        "id": "YcWwPI6mgcQs",
        "colab_type": "code",
        "colab": {
          "base_uri": "https://localhost:8080/",
          "height": 85
        },
        "outputId": "c70d30c7-ca10-44f5-b956-b5ad194d3383"
      },
      "source": [
        "!python3 predictor.py --method logistic"
      ],
      "execution_count": 30,
      "outputs": [
        {
          "output_type": "stream",
          "text": [
            "--\n",
            "Running logistic classifier on test data.\n",
            "Accuracy: 40.860\n",
            "Macro F1-score: 35.331\n"
          ],
          "name": "stdout"
        }
      ]
    },
    {
      "cell_type": "code",
      "metadata": {
        "id": "FfYJUDQ1hFpH",
        "colab_type": "code",
        "colab": {
          "base_uri": "https://localhost:8080/",
          "height": 85
        },
        "outputId": "1189ac1b-c7b0-4d6c-9e5a-44041b7e109f"
      },
      "source": [
        "!python3 predictor.py --method svm"
      ],
      "execution_count": 33,
      "outputs": [
        {
          "output_type": "stream",
          "text": [
            "--\n",
            "Running svm classifier on test data.\n",
            "Accuracy: 41.403\n",
            "Macro F1-score: 38.225\n"
          ],
          "name": "stdout"
        }
      ]
    },
    {
      "cell_type": "code",
      "metadata": {
        "id": "9JHdV04ohJr2",
        "colab_type": "code",
        "colab": {
          "base_uri": "https://localhost:8080/",
          "height": 357
        },
        "outputId": "1980e888-d1d3-434a-bc83-f824a1561131"
      },
      "source": [
        "!python3 predictor.py --method fasttext"
      ],
      "execution_count": 45,
      "outputs": [
        {
          "output_type": "stream",
          "text": [
            "\n",
            "Traceback (most recent call last):\n",
            "  File \"/content/fine-grained-sentiment/classifiers.py\", line 158, in __init__\n",
            "    self.model = fasttext.load_model(model_file)\n",
            "  File \"/usr/local/lib/python3.6/dist-packages/fasttext/FastText.py\", line 350, in load_model\n",
            "    return _FastText(model_path=path)\n",
            "  File \"/usr/local/lib/python3.6/dist-packages/fasttext/FastText.py\", line 43, in __init__\n",
            "    self.f.loadModel(model_path)\n",
            "ValueError: models/fasttext/sst5_hyperopt.ftz cannot be opened for loading!\n",
            "\n",
            "During handling of the above exception, another exception occurred:\n",
            "\n",
            "Traceback (most recent call last):\n",
            "  File \"predictor.py\", line 105, in <module>\n",
            "    method_class = get_class(method, model_file)\n",
            "  File \"predictor.py\", line 52, in get_class\n",
            "    return class_(filename)\n",
            "  File \"/content/fine-grained-sentiment/classifiers.py\", line 161, in __init__\n",
            "    .format(model_file))\n",
            "Exception: Please specify a valid trained FastText model file (.bin or .ftz extension)'models/fasttext/sst5_hyperopt.ftz'.\n"
          ],
          "name": "stdout"
        }
      ]
    },
    {
      "cell_type": "code",
      "metadata": {
        "id": "V8FiQdoBhJ3s",
        "colab_type": "code",
        "colab": {
          "base_uri": "https://localhost:8080/",
          "height": 153
        },
        "outputId": "eb673204-a411-4fc7-ea85-43cc4c9e2552"
      },
      "source": [
        "!python3 predictor.py --method flair"
      ],
      "execution_count": 35,
      "outputs": [
        {
          "output_type": "stream",
          "text": [
            "Traceback (most recent call last):\n",
            "  File \"predictor.py\", line 105, in <module>\n",
            "    method_class = get_class(method, model_file)\n",
            "  File \"predictor.py\", line 52, in get_class\n",
            "    return class_(filename)\n",
            "  File \"/content/fine-grained-sentiment/classifiers.py\", line 184, in __init__\n",
            "    from flair.models import TextClassifier\n",
            "ModuleNotFoundError: No module named 'flair'\n"
          ],
          "name": "stdout"
        }
      ]
    },
    {
      "cell_type": "code",
      "metadata": {
        "id": "q1a6kg8nhKCT",
        "colab_type": "code",
        "colab": {
          "base_uri": "https://localhost:8080/",
          "height": 68
        },
        "outputId": "f7d649c3-9cbd-4bce-a840-2fdb34bae041"
      },
      "source": [
        "!ls"
      ],
      "execution_count": 37,
      "outputs": [
        {
          "output_type": "stream",
          "text": [
            "classifiers.py\tfastText  notebooks   predictor.py  requirements.txt\n",
            "data\t\tLICENSE   Plots       __pycache__   training\n",
            "explainer.py\tmodels\t  plotter.py  README.md\n"
          ],
          "name": "stdout"
        }
      ]
    },
    {
      "cell_type": "code",
      "metadata": {
        "id": "MgOP-8rmih6t",
        "colab_type": "code",
        "colab": {
          "base_uri": "https://localhost:8080/",
          "height": 357
        },
        "outputId": "79a6e20a-95c8-4b1d-ae56-943eb7b09f7c"
      },
      "source": [
        "!python3 predictor.py --method fasttext --model models/fasttext/sst-bigram.bin"
      ],
      "execution_count": 44,
      "outputs": [
        {
          "output_type": "stream",
          "text": [
            "\n",
            "Traceback (most recent call last):\n",
            "  File \"/content/fine-grained-sentiment/classifiers.py\", line 158, in __init__\n",
            "    self.model = fasttext.load_model(model_file)\n",
            "  File \"/usr/local/lib/python3.6/dist-packages/fasttext/FastText.py\", line 350, in load_model\n",
            "    return _FastText(model_path=path)\n",
            "  File \"/usr/local/lib/python3.6/dist-packages/fasttext/FastText.py\", line 43, in __init__\n",
            "    self.f.loadModel(model_path)\n",
            "ValueError: models/fasttext/sst-bigram.bin cannot be opened for loading!\n",
            "\n",
            "During handling of the above exception, another exception occurred:\n",
            "\n",
            "Traceback (most recent call last):\n",
            "  File \"predictor.py\", line 105, in <module>\n",
            "    method_class = get_class(method, model_file)\n",
            "  File \"predictor.py\", line 52, in get_class\n",
            "    return class_(filename)\n",
            "  File \"/content/fine-grained-sentiment/classifiers.py\", line 161, in __init__\n",
            "    .format(model_file))\n",
            "Exception: Please specify a valid trained FastText model file (.bin or .ftz extension)'models/fasttext/sst-bigram.bin'.\n"
          ],
          "name": "stdout"
        }
      ]
    },
    {
      "cell_type": "code",
      "metadata": {
        "id": "FX1-wYk8ijxT",
        "colab_type": "code",
        "colab": {}
      },
      "source": [
        "!python3 predictor.py --method fasttext --model models/fasttext/sst-trigram.bin"
      ],
      "execution_count": null,
      "outputs": []
    },
    {
      "cell_type": "code",
      "metadata": {
        "id": "vfjQoTp5isuS",
        "colab_type": "code",
        "colab": {
          "base_uri": "https://localhost:8080/",
          "height": 306
        },
        "outputId": "f6e52d4c-19bc-4aae-c07a-6b831b927d92"
      },
      "source": [
        "!python3 predictor.py --method transformer --model models/transformer"
      ],
      "execution_count": 39,
      "outputs": [
        {
          "output_type": "stream",
          "text": [
            "Traceback (most recent call last):\n",
            "  File \"/content/fine-grained-sentiment/classifiers.py\", line 223, in __init__\n",
            "    self.config = torch.load(cached_path(os.path.join(model_path, \"model_training_args.bin\")))\n",
            "  File \"/usr/local/lib/python3.6/dist-packages/pytorch_transformers/file_utils.py\", line 118, in cached_path\n",
            "    raise EnvironmentError(\"file {} not found\".format(url_or_filename))\n",
            "OSError: file models/transformer/model_training_args.bin not found\n",
            "\n",
            "During handling of the above exception, another exception occurred:\n",
            "\n",
            "Traceback (most recent call last):\n",
            "  File \"predictor.py\", line 105, in <module>\n",
            "    method_class = get_class(method, model_file)\n",
            "  File \"predictor.py\", line 52, in get_class\n",
            "    return class_(filename)\n",
            "  File \"/content/fine-grained-sentiment/classifiers.py\", line 233, in __init__\n",
            "    .format(model_path))\n",
            "Exception: Require a valid transformer model file (models/transformer/model_weights.pth) and its config file (models/transformer/model_training_args.bin).\n"
          ],
          "name": "stdout"
        }
      ]
    },
    {
      "cell_type": "code",
      "metadata": {
        "id": "kbg7H4vxis3A",
        "colab_type": "code",
        "colab": {
          "base_uri": "https://localhost:8080/",
          "height": 816
        },
        "outputId": "f666e136-18aa-4101-8673-549138043a53"
      },
      "source": [
        "!python3 explainer.py --method textblob vader logistic svm fasttext"
      ],
      "execution_count": 40,
      "outputs": [
        {
          "output_type": "stream",
          "text": [
            "Method: TEXTBLOB\n",
            "Generating LIME explanation for example 1: `It 's not horrible , just horribly mediocre .`\n",
            "Method: VADER\n",
            "Generating LIME explanation for example 1: `It 's not horrible , just horribly mediocre .`\n",
            "Traceback (most recent call last):\n",
            "  File \"explainer.py\", line 382, in <module>\n",
            "    main(samples)\n",
            "  File \"explainer.py\", line 370, in main\n",
            "    exp = explainer(method, path_to_file, text, args.num_samples)\n",
            "  File \"explainer.py\", line 324, in explainer\n",
            "    model = explainer_class(method, path_to_file)\n",
            "  File \"explainer.py\", line 56, in explainer_class\n",
            "    return class_(filename)\n",
            "  File \"explainer.py\", line 108, in __init__\n",
            "    self.vader = SentimentIntensityAnalyzer()\n",
            "  File \"/usr/local/lib/python3.6/dist-packages/nltk/sentiment/vader.py\", line 334, in __init__\n",
            "    self.lexicon_file = nltk.data.load(lexicon_file)\n",
            "  File \"/usr/local/lib/python3.6/dist-packages/nltk/data.py\", line 868, in load\n",
            "    opened_resource = _open(resource_url)\n",
            "  File \"/usr/local/lib/python3.6/dist-packages/nltk/data.py\", line 993, in _open\n",
            "    return find(path_, path + ['']).open()\n",
            "  File \"/usr/local/lib/python3.6/dist-packages/nltk/data.py\", line 701, in find\n",
            "    raise LookupError(resource_not_found)\n",
            "LookupError: \n",
            "**********************************************************************\n",
            "  Resource \u001b[93mvader_lexicon\u001b[0m not found.\n",
            "  Please use the NLTK Downloader to obtain the resource:\n",
            "\n",
            "  \u001b[31m>>> import nltk\n",
            "  >>> nltk.download('vader_lexicon')\n",
            "  \u001b[0m\n",
            "  For more information see: https://www.nltk.org/data.html\n",
            "\n",
            "  Attempted to load \u001b[93msentiment/vader_lexicon.zip/vader_lexicon/vader_lexicon.txt\u001b[0m\n",
            "\n",
            "  Searched in:\n",
            "    - '/root/nltk_data'\n",
            "    - '/usr/nltk_data'\n",
            "    - '/usr/share/nltk_data'\n",
            "    - '/usr/lib/nltk_data'\n",
            "    - '/usr/share/nltk_data'\n",
            "    - '/usr/local/share/nltk_data'\n",
            "    - '/usr/lib/nltk_data'\n",
            "    - '/usr/local/lib/nltk_data'\n",
            "    - ''\n",
            "**********************************************************************\n",
            "\n"
          ],
          "name": "stdout"
        }
      ]
    },
    {
      "cell_type": "code",
      "metadata": {
        "id": "_q52ZRE6i3-e",
        "colab_type": "code",
        "colab": {
          "base_uri": "https://localhost:8080/",
          "height": 255
        },
        "outputId": "00de5387-3f7b-44bc-f5f1-6b8177624f07"
      },
      "source": [
        "!python3 explainer.py --method flair"
      ],
      "execution_count": 42,
      "outputs": [
        {
          "output_type": "stream",
          "text": [
            "Method: FLAIR\n",
            "Generating LIME explanation for example 1: `It 's not horrible , just horribly mediocre .`\n",
            "Traceback (most recent call last):\n",
            "  File \"explainer.py\", line 382, in <module>\n",
            "    main(samples)\n",
            "  File \"explainer.py\", line 370, in main\n",
            "    exp = explainer(method, path_to_file, text, args.num_samples)\n",
            "  File \"explainer.py\", line 324, in explainer\n",
            "    model = explainer_class(method, path_to_file)\n",
            "  File \"explainer.py\", line 56, in explainer_class\n",
            "    return class_(filename)\n",
            "  File \"explainer.py\", line 235, in __init__\n",
            "    from flair.models import TextClassifier\n",
            "ModuleNotFoundError: No module named 'flair'\n"
          ],
          "name": "stdout"
        }
      ]
    },
    {
      "cell_type": "code",
      "metadata": {
        "id": "yWdxcs2Pi9we",
        "colab_type": "code",
        "colab": {
          "base_uri": "https://localhost:8080/",
          "height": 408
        },
        "outputId": "fc7a3c4b-1e80-4b36-b45e-8054e58f1d70"
      },
      "source": [
        "!python3 explainer.py --method transformer"
      ],
      "execution_count": 43,
      "outputs": [
        {
          "output_type": "stream",
          "text": [
            "Method: TRANSFORMER\n",
            "Generating LIME explanation for example 1: `It 's not horrible , just horribly mediocre .`\n",
            "Traceback (most recent call last):\n",
            "  File \"explainer.py\", line 273, in __init__\n",
            "    self.config = torch.load(cached_path(os.path.join(model_file, \"model_training_args.bin\")))\n",
            "  File \"/usr/local/lib/python3.6/dist-packages/pytorch_transformers/file_utils.py\", line 118, in cached_path\n",
            "    raise EnvironmentError(\"file {} not found\".format(url_or_filename))\n",
            "OSError: file models/transformer/model_training_args.bin not found\n",
            "\n",
            "During handling of the above exception, another exception occurred:\n",
            "\n",
            "Traceback (most recent call last):\n",
            "  File \"explainer.py\", line 382, in <module>\n",
            "    main(samples)\n",
            "  File \"explainer.py\", line 370, in main\n",
            "    exp = explainer(method, path_to_file, text, args.num_samples)\n",
            "  File \"explainer.py\", line 324, in explainer\n",
            "    model = explainer_class(method, path_to_file)\n",
            "  File \"explainer.py\", line 56, in explainer_class\n",
            "    return class_(filename)\n",
            "  File \"explainer.py\", line 283, in __init__\n",
            "    .format(model_file))\n",
            "Exception: Require a valid transformer model file (models/transformer/model_weights.pth) and its config file (models/transformer/model_training_args.bin).\n"
          ],
          "name": "stdout"
        }
      ]
    },
    {
      "cell_type": "code",
      "metadata": {
        "id": "fcgLdXBKjARL",
        "colab_type": "code",
        "colab": {
          "base_uri": "https://localhost:8080/",
          "height": 34
        },
        "outputId": "3a827082-52c1-4929-9e45-98cac472a3cf"
      },
      "source": [
        "%cd .."
      ],
      "execution_count": 47,
      "outputs": [
        {
          "output_type": "stream",
          "text": [
            "/content\n"
          ],
          "name": "stdout"
        }
      ]
    },
    {
      "cell_type": "code",
      "metadata": {
        "id": "afdC2tH-lETw",
        "colab_type": "code",
        "colab": {
          "base_uri": "https://localhost:8080/",
          "height": 136
        },
        "outputId": "fcd857c4-ee4f-4009-8951-9391e2052ec9"
      },
      "source": [
        "!git clone https://github.com/prrao87/fine-grained-sentiment-app"
      ],
      "execution_count": 48,
      "outputs": [
        {
          "output_type": "stream",
          "text": [
            "Cloning into 'fine-grained-sentiment-app'...\n",
            "remote: Enumerating objects: 135, done.\u001b[K\n",
            "remote: Counting objects: 100% (135/135), done.\u001b[K\n",
            "remote: Compressing objects: 100% (89/89), done.\u001b[K\n",
            "remote: Total 135 (delta 60), reused 73 (delta 27), pack-reused 0\u001b[K\n",
            "Receiving objects: 100% (135/135), 15.06 MiB | 8.08 MiB/s, done.\n",
            "Resolving deltas: 100% (60/60), done.\n"
          ],
          "name": "stdout"
        }
      ]
    },
    {
      "cell_type": "markdown",
      "metadata": {
        "id": "Q6NIMXKflU8j",
        "colab_type": "text"
      },
      "source": [
        "Here we will copy our ***../fine-grained-sentiment/models/fasttext/sst5_hyperopt.ftz***\n",
        "\n",
        "!cp ../fine-grained-sentiment/models/fasttext/sst5_hyperopt.ftz fine-grained-sentiment-app/models/fasttext/sst5_hyperopt.ftz"
      ]
    },
    {
      "cell_type": "code",
      "metadata": {
        "id": "XGsZwxtnlEeQ",
        "colab_type": "code",
        "colab": {
          "base_uri": "https://localhost:8080/",
          "height": 34
        },
        "outputId": "d063f990-11b1-49c7-956b-b681749527d8"
      },
      "source": [
        "%cd fine-grained-sentiment-app/"
      ],
      "execution_count": 49,
      "outputs": [
        {
          "output_type": "stream",
          "text": [
            "/content/fine-grained-sentiment-app\n"
          ],
          "name": "stdout"
        }
      ]
    },
    {
      "cell_type": "code",
      "metadata": {
        "id": "Vn2OjDEVl36B",
        "colab_type": "code",
        "colab": {
          "base_uri": "https://localhost:8080/",
          "height": 938
        },
        "outputId": "a3b11af6-0d23-45f6-d417-f4e7cd868e7e"
      },
      "source": [
        "!pip3 install -r requirements.txt"
      ],
      "execution_count": 50,
      "outputs": [
        {
          "output_type": "stream",
          "text": [
            "Requirement already satisfied: tqdm==4.33.0 in /usr/local/lib/python3.6/dist-packages (from -r requirements.txt (line 1)) (4.33.0)\n",
            "Collecting flask==1.1.1\n",
            "\u001b[?25l  Downloading https://files.pythonhosted.org/packages/9b/93/628509b8d5dc749656a9641f4caf13540e2cdec85276964ff8f43bbb1d3b/Flask-1.1.1-py2.py3-none-any.whl (94kB)\n",
            "\u001b[K     |████████████████████████████████| 102kB 2.6MB/s \n",
            "\u001b[?25hRequirement already satisfied: pandas==0.25.0 in /usr/local/lib/python3.6/dist-packages (from -r requirements.txt (line 3)) (0.25.0)\n",
            "Requirement already satisfied: nltk==3.4.5 in /usr/local/lib/python3.6/dist-packages (from -r requirements.txt (line 4)) (3.4.5)\n",
            "Requirement already satisfied: textblob==0.15.3 in /usr/local/lib/python3.6/dist-packages (from -r requirements.txt (line 5)) (0.15.3)\n",
            "Requirement already satisfied: cython==0.29.3 in /usr/local/lib/python3.6/dist-packages (from -r requirements.txt (line 6)) (0.29.3)\n",
            "Requirement already satisfied: fasttext==0.9.1 in /usr/local/lib/python3.6/dist-packages (from -r requirements.txt (line 7)) (0.9.1)\n",
            "Requirement already satisfied: lime==0.1.1.36 in /usr/local/lib/python3.6/dist-packages (from -r requirements.txt (line 8)) (0.1.1.36)\n",
            "Requirement already satisfied: spacy==2.1.8 in /usr/local/lib/python3.6/dist-packages (from -r requirements.txt (line 9)) (2.1.8)\n",
            "Requirement already satisfied: click>=5.1 in /usr/local/lib/python3.6/dist-packages (from flask==1.1.1->-r requirements.txt (line 2)) (7.1.2)\n",
            "Requirement already satisfied: Jinja2>=2.10.1 in /usr/local/lib/python3.6/dist-packages (from flask==1.1.1->-r requirements.txt (line 2)) (2.11.2)\n",
            "Requirement already satisfied: itsdangerous>=0.24 in /usr/local/lib/python3.6/dist-packages (from flask==1.1.1->-r requirements.txt (line 2)) (1.1.0)\n",
            "Requirement already satisfied: Werkzeug>=0.15 in /usr/local/lib/python3.6/dist-packages (from flask==1.1.1->-r requirements.txt (line 2)) (1.0.1)\n",
            "Requirement already satisfied: pytz>=2017.2 in /usr/local/lib/python3.6/dist-packages (from pandas==0.25.0->-r requirements.txt (line 3)) (2018.9)\n",
            "Requirement already satisfied: python-dateutil>=2.6.1 in /usr/local/lib/python3.6/dist-packages (from pandas==0.25.0->-r requirements.txt (line 3)) (2.8.1)\n",
            "Requirement already satisfied: numpy>=1.13.3 in /usr/local/lib/python3.6/dist-packages (from pandas==0.25.0->-r requirements.txt (line 3)) (1.18.5)\n",
            "Requirement already satisfied: six in /usr/local/lib/python3.6/dist-packages (from nltk==3.4.5->-r requirements.txt (line 4)) (1.15.0)\n",
            "Requirement already satisfied: setuptools>=0.7.0 in /usr/local/lib/python3.6/dist-packages (from fasttext==0.9.1->-r requirements.txt (line 7)) (50.3.0)\n",
            "Requirement already satisfied: pybind11>=2.2 in /usr/local/lib/python3.6/dist-packages (from fasttext==0.9.1->-r requirements.txt (line 7)) (2.5.0)\n",
            "Requirement already satisfied: scikit-image>=0.12; python_version >= \"3.0\" in /usr/local/lib/python3.6/dist-packages (from lime==0.1.1.36->-r requirements.txt (line 8)) (0.16.2)\n",
            "Requirement already satisfied: matplotlib; python_version >= \"3.0\" in /usr/local/lib/python3.6/dist-packages (from lime==0.1.1.36->-r requirements.txt (line 8)) (3.2.2)\n",
            "Requirement already satisfied: scikit-learn>=0.18 in /usr/local/lib/python3.6/dist-packages (from lime==0.1.1.36->-r requirements.txt (line 8)) (0.22.2.post1)\n",
            "Requirement already satisfied: scipy in /usr/local/lib/python3.6/dist-packages (from lime==0.1.1.36->-r requirements.txt (line 8)) (1.4.1)\n",
            "Requirement already satisfied: preshed<2.1.0,>=2.0.1 in /usr/local/lib/python3.6/dist-packages (from spacy==2.1.8->-r requirements.txt (line 9)) (2.0.1)\n",
            "Requirement already satisfied: cymem<2.1.0,>=2.0.2 in /usr/local/lib/python3.6/dist-packages (from spacy==2.1.8->-r requirements.txt (line 9)) (2.0.3)\n",
            "Requirement already satisfied: wasabi<1.1.0,>=0.2.0 in /usr/local/lib/python3.6/dist-packages (from spacy==2.1.8->-r requirements.txt (line 9)) (0.8.0)\n",
            "Requirement already satisfied: blis<0.3.0,>=0.2.2 in /usr/local/lib/python3.6/dist-packages (from spacy==2.1.8->-r requirements.txt (line 9)) (0.2.4)\n",
            "Requirement already satisfied: thinc<7.1.0,>=7.0.8 in /usr/local/lib/python3.6/dist-packages (from spacy==2.1.8->-r requirements.txt (line 9)) (7.0.8)\n",
            "Requirement already satisfied: murmurhash<1.1.0,>=0.28.0 in /usr/local/lib/python3.6/dist-packages (from spacy==2.1.8->-r requirements.txt (line 9)) (1.0.2)\n",
            "Requirement already satisfied: requests<3.0.0,>=2.13.0 in /usr/local/lib/python3.6/dist-packages (from spacy==2.1.8->-r requirements.txt (line 9)) (2.23.0)\n",
            "Requirement already satisfied: srsly<1.1.0,>=0.0.6 in /usr/local/lib/python3.6/dist-packages (from spacy==2.1.8->-r requirements.txt (line 9)) (1.0.2)\n",
            "Requirement already satisfied: plac<1.0.0,>=0.9.6 in /usr/local/lib/python3.6/dist-packages (from spacy==2.1.8->-r requirements.txt (line 9)) (0.9.6)\n",
            "Requirement already satisfied: MarkupSafe>=0.23 in /usr/local/lib/python3.6/dist-packages (from Jinja2>=2.10.1->flask==1.1.1->-r requirements.txt (line 2)) (1.1.1)\n",
            "Requirement already satisfied: imageio>=2.3.0 in /usr/local/lib/python3.6/dist-packages (from scikit-image>=0.12; python_version >= \"3.0\"->lime==0.1.1.36->-r requirements.txt (line 8)) (2.4.1)\n",
            "Requirement already satisfied: networkx>=2.0 in /usr/local/lib/python3.6/dist-packages (from scikit-image>=0.12; python_version >= \"3.0\"->lime==0.1.1.36->-r requirements.txt (line 8)) (2.5)\n",
            "Requirement already satisfied: PyWavelets>=0.4.0 in /usr/local/lib/python3.6/dist-packages (from scikit-image>=0.12; python_version >= \"3.0\"->lime==0.1.1.36->-r requirements.txt (line 8)) (1.1.1)\n",
            "Requirement already satisfied: pillow>=4.3.0 in /usr/local/lib/python3.6/dist-packages (from scikit-image>=0.12; python_version >= \"3.0\"->lime==0.1.1.36->-r requirements.txt (line 8)) (7.0.0)\n",
            "Requirement already satisfied: kiwisolver>=1.0.1 in /usr/local/lib/python3.6/dist-packages (from matplotlib; python_version >= \"3.0\"->lime==0.1.1.36->-r requirements.txt (line 8)) (1.2.0)\n",
            "Requirement already satisfied: pyparsing!=2.0.4,!=2.1.2,!=2.1.6,>=2.0.1 in /usr/local/lib/python3.6/dist-packages (from matplotlib; python_version >= \"3.0\"->lime==0.1.1.36->-r requirements.txt (line 8)) (2.4.7)\n",
            "Requirement already satisfied: cycler>=0.10 in /usr/local/lib/python3.6/dist-packages (from matplotlib; python_version >= \"3.0\"->lime==0.1.1.36->-r requirements.txt (line 8)) (0.10.0)\n",
            "Requirement already satisfied: joblib>=0.11 in /usr/local/lib/python3.6/dist-packages (from scikit-learn>=0.18->lime==0.1.1.36->-r requirements.txt (line 8)) (0.16.0)\n",
            "Requirement already satisfied: idna<3,>=2.5 in /usr/local/lib/python3.6/dist-packages (from requests<3.0.0,>=2.13.0->spacy==2.1.8->-r requirements.txt (line 9)) (2.10)\n",
            "Requirement already satisfied: urllib3!=1.25.0,!=1.25.1,<1.26,>=1.21.1 in /usr/local/lib/python3.6/dist-packages (from requests<3.0.0,>=2.13.0->spacy==2.1.8->-r requirements.txt (line 9)) (1.24.3)\n",
            "Requirement already satisfied: certifi>=2017.4.17 in /usr/local/lib/python3.6/dist-packages (from requests<3.0.0,>=2.13.0->spacy==2.1.8->-r requirements.txt (line 9)) (2020.6.20)\n",
            "Requirement already satisfied: chardet<4,>=3.0.2 in /usr/local/lib/python3.6/dist-packages (from requests<3.0.0,>=2.13.0->spacy==2.1.8->-r requirements.txt (line 9)) (3.0.4)\n",
            "Requirement already satisfied: decorator>=4.3.0 in /usr/local/lib/python3.6/dist-packages (from networkx>=2.0->scikit-image>=0.12; python_version >= \"3.0\"->lime==0.1.1.36->-r requirements.txt (line 8)) (4.4.2)\n",
            "Installing collected packages: flask\n",
            "  Found existing installation: Flask 1.1.2\n",
            "    Uninstalling Flask-1.1.2:\n",
            "      Successfully uninstalled Flask-1.1.2\n",
            "Successfully installed flask-1.1.1\n"
          ],
          "name": "stdout"
        }
      ]
    },
    {
      "cell_type": "code",
      "metadata": {
        "id": "Jfbc-cIGl5e_",
        "colab_type": "code",
        "colab": {
          "base_uri": "https://localhost:8080/",
          "height": 170
        },
        "outputId": "274e90f7-ebc3-4523-9df7-b0c9b6fa906e"
      },
      "source": [
        "!cat requirements.txt"
      ],
      "execution_count": 57,
      "outputs": [
        {
          "output_type": "stream",
          "text": [
            "tqdm==4.33.0\n",
            "flask==1.1.1\n",
            "pandas==0.25.0\n",
            "nltk==3.4.5\n",
            "textblob==0.15.3\n",
            "cython==0.29.3\n",
            "fasttext==0.9.1\n",
            "lime==0.1.1.36\n",
            "spacy==2.1.8\n"
          ],
          "name": "stdout"
        }
      ]
    },
    {
      "cell_type": "code",
      "metadata": {
        "id": "jS9_OSlxmJvO",
        "colab_type": "code",
        "colab": {}
      },
      "source": [
        ""
      ],
      "execution_count": null,
      "outputs": []
    }
  ]
}